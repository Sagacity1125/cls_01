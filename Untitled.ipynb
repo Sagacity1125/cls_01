{
 "cells": [
  {
   "cell_type": "code",
   "execution_count": 13,
   "id": "b4e6db98",
   "metadata": {},
   "outputs": [],
   "source": [
    "import scipy.io as scio\n",
    "import os"
   ]
  },
  {
   "cell_type": "code",
   "execution_count": 7,
   "id": "88cc10e2",
   "metadata": {},
   "outputs": [
    {
     "data": {
      "text/plain": [
       "{'__header__': b'MATLAB 5.0 MAT-file, Platform: GLNX86, Created on: Thu Feb 19 15:43:33 2009',\n",
       " '__version__': '1.0',\n",
       " '__globals__': [],\n",
       " 'labels': array([[77, 77, 77, ..., 62, 62, 62]], dtype=uint8)}"
      ]
     },
     "execution_count": 7,
     "metadata": {},
     "output_type": "execute_result"
    }
   ],
   "source": [
    "file = '../cls_01_课堂课件/imagelabels.mat'\n",
    "label = scio.loadmat(file)\n",
    "label"
   ]
  },
  {
   "cell_type": "code",
   "execution_count": 38,
   "id": "df594b32",
   "metadata": {},
   "outputs": [
    {
     "data": {
      "text/plain": [
       "numpy.uint8"
      ]
     },
     "execution_count": 38,
     "metadata": {},
     "output_type": "execute_result"
    }
   ],
   "source": [
    "type(label['labels'].squeeze().max())"
   ]
  },
  {
   "cell_type": "code",
   "execution_count": 10,
   "id": "2c2b54d5",
   "metadata": {},
   "outputs": [
    {
     "data": {
      "text/plain": [
       "8189"
      ]
     },
     "execution_count": 10,
     "metadata": {},
     "output_type": "execute_result"
    }
   ],
   "source": [
    "len(label['labels'][0])"
   ]
  },
  {
   "cell_type": "code",
   "execution_count": 15,
   "id": "d64a9766",
   "metadata": {},
   "outputs": [],
   "source": [
    "if not os.path.isdir('1'):\n",
    "    os.mkdir('1')\n"
   ]
  },
  {
   "cell_type": "code",
   "execution_count": 24,
   "id": "c23a9f2a",
   "metadata": {},
   "outputs": [
    {
     "data": {
      "text/plain": [
       "201"
      ]
     },
     "execution_count": 24,
     "metadata": {},
     "output_type": "execute_result"
    }
   ],
   "source": [
    "a = 'image_00201.jpg'\n",
    "b = int(a[6:11])\n",
    "b"
   ]
  },
  {
   "cell_type": "code",
   "execution_count": 25,
   "id": "61d262ec",
   "metadata": {},
   "outputs": [],
   "source": [
    "b = [201,202]"
   ]
  },
  {
   "cell_type": "code",
   "execution_count": 26,
   "id": "0b247b15",
   "metadata": {},
   "outputs": [
    {
     "data": {
      "text/plain": [
       "'F:\\\\cv_project_notebook\\\\第6期课件资料\\\\图像分类_cls\\\\cls_01_课堂课件\\\\102flowers\\\\train\\\\image_00201.jpg'"
      ]
     },
     "execution_count": 26,
     "metadata": {},
     "output_type": "execute_result"
    }
   ],
   "source": [
    "root_dir = r'F:\\cv_project_notebook\\第6期课件资料\\图像分类_cls\\cls_01_课堂课件\\102flowers\\train'\n",
    "path_img = os.path.join(root_dir,a)\n",
    "path_img"
   ]
  },
  {
   "cell_type": "code",
   "execution_count": 27,
   "id": "8afbdbb4",
   "metadata": {},
   "outputs": [],
   "source": [
    "path_img = ['F:\\\\cv_project_notebook\\\\第6期课件资料\\\\图像分类_cls\\\\cls_01_课堂课件\\\\102flowers\\\\train\\\\image_00201.jpg',\n",
    "           'F:\\\\cv_project_notebook\\\\第6期课件资料\\\\图像分类_cls\\\\cls_01_课堂课件\\\\102flowers\\\\train\\\\image_00202.jpg']"
   ]
  },
  {
   "cell_type": "code",
   "execution_count": 28,
   "id": "357c00fd",
   "metadata": {},
   "outputs": [
    {
     "data": {
      "text/plain": [
       "<zip at 0x2635e06c0c0>"
      ]
     },
     "execution_count": 28,
     "metadata": {},
     "output_type": "execute_result"
    }
   ],
   "source": [
    "zip(path_img, b)"
   ]
  },
  {
   "cell_type": "code",
   "execution_count": 31,
   "id": "2478d060",
   "metadata": {},
   "outputs": [
    {
     "name": "stdout",
     "output_type": "stream",
     "text": [
      "F:\\cv_project_notebook\\第6期课件资料\\图像分类_cls\\cls_01_课堂课件\\102flowers\\train\\image_00201.jpg 200\n",
      "F:\\cv_project_notebook\\第6期课件资料\\图像分类_cls\\cls_01_课堂课件\\102flowers\\train\\image_00202.jpg 201\n"
     ]
    }
   ],
   "source": [
    "for p,idx in zip(path_img,b):\n",
    "    print(p,idx-1)"
   ]
  },
  {
   "cell_type": "code",
   "execution_count": 3,
   "id": "490c6a86",
   "metadata": {},
   "outputs": [
    {
     "data": {
      "text/plain": [
       "[1, 4, 9, 16, 25, 36, 49, 64, 81, 100]"
      ]
     },
     "execution_count": 3,
     "metadata": {},
     "output_type": "execute_result"
    }
   ],
   "source": [
    "list = []\n",
    "for i in range(1,11):\n",
    "    list.append(i*i)\n",
    "list"
   ]
  },
  {
   "cell_type": "code",
   "execution_count": 6,
   "id": "b9ffe06d",
   "metadata": {},
   "outputs": [
    {
     "data": {
      "text/plain": [
       "[1, 9, 25, 49, 81]"
      ]
     },
     "execution_count": 6,
     "metadata": {},
     "output_type": "execute_result"
    }
   ],
   "source": [
    "list1 = [i*i for i in range(1,11) if i % 2 != 0]\n",
    "list1"
   ]
  },
  {
   "cell_type": "code",
   "execution_count": 8,
   "id": "313a3117",
   "metadata": {},
   "outputs": [
    {
     "data": {
      "text/plain": [
       "[1, 3, 5, 7, 9]"
      ]
     },
     "execution_count": 8,
     "metadata": {},
     "output_type": "execute_result"
    }
   ],
   "source": [
    "list2 = []\n",
    "for i in range(1,11):\n",
    "    if i % 2 != 0:\n",
    "        list2.append(i)\n",
    "list2"
   ]
  },
  {
   "cell_type": "code",
   "execution_count": 12,
   "id": "0a8850d6",
   "metadata": {},
   "outputs": [
    {
     "data": {
      "text/plain": [
       "['A1', 'A2', 'A3', 'B1', 'B2', 'B3', 'C1', 'C2', 'C3']"
      ]
     },
     "execution_count": 12,
     "metadata": {},
     "output_type": "execute_result"
    }
   ],
   "source": [
    "s1 = 'ABC'\n",
    "s2 = '123'\n",
    "[i+j for i in s1 for j in s2]"
   ]
  },
  {
   "cell_type": "code",
   "execution_count": 14,
   "id": "30802104",
   "metadata": {},
   "outputs": [],
   "source": [
    "base_dir = 'F:\\cv_project_notebook\\cv_Issue6_data\\ImageClass\\clc_01'"
   ]
  },
  {
   "cell_type": "code",
   "execution_count": 16,
   "id": "ae6730d0",
   "metadata": {},
   "outputs": [],
   "source": [
    "b = os.path.join(base_dir,'clc_01_code', '..' ,'cls_01_ppt')"
   ]
  },
  {
   "cell_type": "code",
   "execution_count": 20,
   "id": "6cdbfaad",
   "metadata": {},
   "outputs": [
    {
     "data": {
      "text/plain": [
       "['102flowers.tgz',\n",
       " 'cls-01-ppt-花朵分类-代码框架设计.pptx',\n",
       " 'data',\n",
       " 'imagelabels.mat',\n",
       " 'img_cls',\n",
       " '模型训练步骤.xmind',\n",
       " '课程使用链接-01.txt']"
      ]
     },
     "execution_count": 20,
     "metadata": {},
     "output_type": "execute_result"
    }
   ],
   "source": [
    "os.listdir(b)"
   ]
  },
  {
   "cell_type": "code",
   "execution_count": 22,
   "id": "6d4faaff",
   "metadata": {},
   "outputs": [
    {
     "ename": "FileExistsError",
     "evalue": "[WinError 183] 当文件已存在时，无法创建该文件。: 'monthly/daily'",
     "output_type": "error",
     "traceback": [
      "\u001b[1;31m---------------------------------------------------------------------------\u001b[0m",
      "\u001b[1;31mFileExistsError\u001b[0m                           Traceback (most recent call last)",
      "\u001b[1;32m<ipython-input-22-298100b9a2f8>\u001b[0m in \u001b[0;36m<module>\u001b[1;34m\u001b[0m\n\u001b[0;32m      4\u001b[0m \u001b[0mpath\u001b[0m \u001b[1;33m=\u001b[0m \u001b[1;34m\"monthly/daily\"\u001b[0m\u001b[1;33m\u001b[0m\u001b[1;33m\u001b[0m\u001b[0m\n\u001b[0;32m      5\u001b[0m \u001b[1;33m\u001b[0m\u001b[0m\n\u001b[1;32m----> 6\u001b[1;33m \u001b[0mos\u001b[0m\u001b[1;33m.\u001b[0m\u001b[0mmakedirs\u001b[0m\u001b[1;33m(\u001b[0m\u001b[0mpath\u001b[0m\u001b[1;33m)\u001b[0m\u001b[1;33m;\u001b[0m\u001b[1;33m\u001b[0m\u001b[1;33m\u001b[0m\u001b[0m\n\u001b[0m\u001b[0;32m      7\u001b[0m \u001b[1;33m\u001b[0m\u001b[0m\n\u001b[0;32m      8\u001b[0m \u001b[0mprint\u001b[0m\u001b[1;33m(\u001b[0m\u001b[1;34m'路径被创建'\u001b[0m\u001b[1;33m)\u001b[0m\u001b[1;33m\u001b[0m\u001b[1;33m\u001b[0m\u001b[0m\n",
      "\u001b[1;32m~\\miniconda3\\envs\\yolov5\\lib\\os.py\u001b[0m in \u001b[0;36mmakedirs\u001b[1;34m(name, mode, exist_ok)\u001b[0m\n\u001b[0;32m    223\u001b[0m             \u001b[1;32mreturn\u001b[0m\u001b[1;33m\u001b[0m\u001b[1;33m\u001b[0m\u001b[0m\n\u001b[0;32m    224\u001b[0m     \u001b[1;32mtry\u001b[0m\u001b[1;33m:\u001b[0m\u001b[1;33m\u001b[0m\u001b[1;33m\u001b[0m\u001b[0m\n\u001b[1;32m--> 225\u001b[1;33m         \u001b[0mmkdir\u001b[0m\u001b[1;33m(\u001b[0m\u001b[0mname\u001b[0m\u001b[1;33m,\u001b[0m \u001b[0mmode\u001b[0m\u001b[1;33m)\u001b[0m\u001b[1;33m\u001b[0m\u001b[1;33m\u001b[0m\u001b[0m\n\u001b[0m\u001b[0;32m    226\u001b[0m     \u001b[1;32mexcept\u001b[0m \u001b[0mOSError\u001b[0m\u001b[1;33m:\u001b[0m\u001b[1;33m\u001b[0m\u001b[1;33m\u001b[0m\u001b[0m\n\u001b[0;32m    227\u001b[0m         \u001b[1;31m# Cannot rely on checking for EEXIST, since the operating system\u001b[0m\u001b[1;33m\u001b[0m\u001b[1;33m\u001b[0m\u001b[1;33m\u001b[0m\u001b[0m\n",
      "\u001b[1;31mFileExistsError\u001b[0m: [WinError 183] 当文件已存在时，无法创建该文件。: 'monthly/daily'"
     ]
    }
   ],
   "source": [
    "import os, sys\n",
    "path = \"monthly/daily\"\n",
    "os.makedirs(path);\n",
    "print('路径被创建')"
   ]
  },
  {
   "cell_type": "code",
   "execution_count": 24,
   "id": "687bc0ab",
   "metadata": {},
   "outputs": [],
   "source": [
    "import sys\n",
    "# sys.path.append(r'F:\\cv_project_notebook\\cv_Issue6_data\\ImageClass\\clc_01\\clc_01_code\\datasets\\flower_102.py')\n",
    "from datasets.flower_102 import FlowerDataset"
   ]
  },
  {
   "cell_type": "code",
   "execution_count": 3,
   "id": "aababda1",
   "metadata": {},
   "outputs": [],
   "source": [
    "cls_num = 102 # 类属性，用于修改网络fc层\n",
    "name = [i for i in range(cls_num)]"
   ]
  },
  {
   "cell_type": "code",
   "execution_count": 4,
   "id": "a3e3e0ab",
   "metadata": {
    "collapsed": true
   },
   "outputs": [
    {
     "data": {
      "text/plain": [
       "[0,\n",
       " 1,\n",
       " 2,\n",
       " 3,\n",
       " 4,\n",
       " 5,\n",
       " 6,\n",
       " 7,\n",
       " 8,\n",
       " 9,\n",
       " 10,\n",
       " 11,\n",
       " 12,\n",
       " 13,\n",
       " 14,\n",
       " 15,\n",
       " 16,\n",
       " 17,\n",
       " 18,\n",
       " 19,\n",
       " 20,\n",
       " 21,\n",
       " 22,\n",
       " 23,\n",
       " 24,\n",
       " 25,\n",
       " 26,\n",
       " 27,\n",
       " 28,\n",
       " 29,\n",
       " 30,\n",
       " 31,\n",
       " 32,\n",
       " 33,\n",
       " 34,\n",
       " 35,\n",
       " 36,\n",
       " 37,\n",
       " 38,\n",
       " 39,\n",
       " 40,\n",
       " 41,\n",
       " 42,\n",
       " 43,\n",
       " 44,\n",
       " 45,\n",
       " 46,\n",
       " 47,\n",
       " 48,\n",
       " 49,\n",
       " 50,\n",
       " 51,\n",
       " 52,\n",
       " 53,\n",
       " 54,\n",
       " 55,\n",
       " 56,\n",
       " 57,\n",
       " 58,\n",
       " 59,\n",
       " 60,\n",
       " 61,\n",
       " 62,\n",
       " 63,\n",
       " 64,\n",
       " 65,\n",
       " 66,\n",
       " 67,\n",
       " 68,\n",
       " 69,\n",
       " 70,\n",
       " 71,\n",
       " 72,\n",
       " 73,\n",
       " 74,\n",
       " 75,\n",
       " 76,\n",
       " 77,\n",
       " 78,\n",
       " 79,\n",
       " 80,\n",
       " 81,\n",
       " 82,\n",
       " 83,\n",
       " 84,\n",
       " 85,\n",
       " 86,\n",
       " 87,\n",
       " 88,\n",
       " 89,\n",
       " 90,\n",
       " 91,\n",
       " 92,\n",
       " 93,\n",
       " 94,\n",
       " 95,\n",
       " 96,\n",
       " 97,\n",
       " 98,\n",
       " 99,\n",
       " 100,\n",
       " 101]"
      ]
     },
     "execution_count": 4,
     "metadata": {},
     "output_type": "execute_result"
    }
   ],
   "source": [
    "name"
   ]
  },
  {
   "cell_type": "code",
   "execution_count": 6,
   "id": "02246cf5",
   "metadata": {},
   "outputs": [
    {
     "name": "stdout",
     "output_type": "stream",
     "text": [
      "1\n",
      "2\n",
      "3\n",
      "4\n",
      "5\n"
     ]
    }
   ],
   "source": [
    "it = iter([1,2,3,4,5])\n",
    "while 1:\n",
    "    try:\n",
    "        x = next(it)\n",
    "        print(x)\n",
    "    except StopIteration:\n",
    "        break"
   ]
  },
  {
   "cell_type": "code",
   "execution_count": 10,
   "id": "63778f64",
   "metadata": {},
   "outputs": [
    {
     "data": {
      "text/plain": [
       "1"
      ]
     },
     "execution_count": 10,
     "metadata": {},
     "output_type": "execute_result"
    }
   ],
   "source": [
    "it = iter([1,2,3,4,5])\n",
    "next(it)\n"
   ]
  },
  {
   "cell_type": "code",
   "execution_count": 11,
   "id": "58bc755a",
   "metadata": {},
   "outputs": [
    {
     "data": {
      "text/plain": [
       "2"
      ]
     },
     "execution_count": 11,
     "metadata": {},
     "output_type": "execute_result"
    }
   ],
   "source": [
    "next(it)"
   ]
  },
  {
   "cell_type": "code",
   "execution_count": 19,
   "id": "d9d39a2a",
   "metadata": {},
   "outputs": [
    {
     "name": "stdout",
     "output_type": "stream",
     "text": [
      "2021-11-04 10:44:03.714021\n"
     ]
    }
   ],
   "source": [
    "from datetime import datetime\n",
    "now_time = datetime.now()\n",
    "print(now_time)"
   ]
  },
  {
   "cell_type": "code",
   "execution_count": 20,
   "id": "b27edaa8",
   "metadata": {},
   "outputs": [
    {
     "name": "stdout",
     "output_type": "stream",
     "text": [
      "时间：(%Y-%m-%d %H:%M:%S %f):  2021-11-04 10:44:03 714021\n",
      "时间：(%Y-%m-%d %H:%M:%S %p):  21-11-04 10:44:03 AM\n"
     ]
    }
   ],
   "source": [
    "print('时间：(%Y-%m-%d %H:%M:%S %f): ' , now_time.strftime( '%Y-%m-%d %H:%M:%S %f' ) )\n",
    "print('时间：(%Y-%m-%d %H:%M:%S %p): ' , now_time.strftime( '%y-%m-%d %I:%M:%S %p' ))  \n"
   ]
  },
  {
   "cell_type": "code",
   "execution_count": 21,
   "id": "7fc52cfc",
   "metadata": {},
   "outputs": [
    {
     "name": "stdout",
     "output_type": "stream",
     "text": [
      "星期缩写%a: Thu \n",
      "星期全拼%A: Thursday \n"
     ]
    }
   ],
   "source": [
    "print('星期缩写%%a: %s '  % now_time.strftime( '%a' ))  \n",
    "print('星期全拼%%A: %s '  % now_time.strftime( '%A' ))  \n"
   ]
  },
  {
   "cell_type": "code",
   "execution_count": 24,
   "id": "73bfb93b",
   "metadata": {},
   "outputs": [
    {
     "name": "stdout",
     "output_type": "stream",
     "text": [
      "月份缩写%b: Nov \n",
      "月份全拼%B: November \n",
      "日期时间%c: Thu Nov  4 10:44:03 2021 \n"
     ]
    }
   ],
   "source": [
    "print('月份缩写%%b: %s '  % now_time.strftime( '%b' ))  \n",
    "print('月份全拼%%B: %s '  % now_time.strftime( '%B' ))  \n",
    "print('日期时间%%c: %s '  % now_time.strftime( '%c' ))  \n"
   ]
  },
  {
   "cell_type": "code",
   "execution_count": 27,
   "id": "d2dba11b",
   "metadata": {},
   "outputs": [
    {
     "data": {
      "text/plain": [
       "[0, 0]"
      ]
     },
     "execution_count": 27,
     "metadata": {},
     "output_type": "execute_result"
    }
   ],
   "source": [
    "names = ['a','b']\n",
    "img_labels = [0 for _ in range(len(names))]\n",
    "img_labels"
   ]
  },
  {
   "cell_type": "code",
   "execution_count": 28,
   "id": "2d25a407",
   "metadata": {},
   "outputs": [],
   "source": [
    "img_labels_2 = [1,1]\n",
    "label = img_labels+img_labels_2\n"
   ]
  },
  {
   "cell_type": "code",
   "execution_count": 29,
   "id": "6a6f85af",
   "metadata": {},
   "outputs": [
    {
     "data": {
      "text/plain": [
       "[0, 0, 1, 1]"
      ]
     },
     "execution_count": 29,
     "metadata": {},
     "output_type": "execute_result"
    }
   ],
   "source": [
    "label"
   ]
  },
  {
   "cell_type": "code",
   "execution_count": 32,
   "id": "57d73159",
   "metadata": {},
   "outputs": [
    {
     "data": {
      "text/plain": [
       "(0, 0)"
      ]
     },
     "execution_count": 32,
     "metadata": {},
     "output_type": "execute_result"
    }
   ],
   "source": [
    "tuple(label)[:2]"
   ]
  },
  {
   "cell_type": "code",
   "execution_count": 34,
   "id": "3c8862ee",
   "metadata": {},
   "outputs": [
    {
     "data": {
      "text/plain": [
       "'b.jpg'"
      ]
     },
     "execution_count": 34,
     "metadata": {},
     "output_type": "execute_result"
    }
   ],
   "source": [
    "import os\n",
    "os.path.basename('../a/b.jpg')"
   ]
  },
  {
   "cell_type": "code",
   "execution_count": 56,
   "id": "b95c7ea3",
   "metadata": {},
   "outputs": [],
   "source": []
  },
  {
   "cell_type": "code",
   "execution_count": 64,
   "id": "4add648d",
   "metadata": {},
   "outputs": [],
   "source": [
    "import logging\n",
    "logger = logging.getLogger(__name__)\n",
    "logger.setLevel(level=logging.INFO)\n",
    "# 设置handler,将日志写入文件\n",
    "handler = logging.FileHandler('log6.txt')\n",
    "handler.setLevel(logging.INFO)\n",
    "formatter = logging.Formatter('%(asctime)s - %(name)s - %(levelname)s - %(message)s')\n",
    "handler.setFormatter(formatter)\n",
    "\n"
   ]
  },
  {
   "cell_type": "code",
   "execution_count": 65,
   "id": "3a560dd3",
   "metadata": {},
   "outputs": [],
   "source": [
    "logger.addHandler(handler)\n",
    "logger.info('load b')"
   ]
  },
  {
   "cell_type": "code",
   "execution_count": 68,
   "id": "f387810f",
   "metadata": {},
   "outputs": [
    {
     "name": "stderr",
     "output_type": "stream",
     "text": [
      "Start print log11\n",
      "Start print log11\n"
     ]
    }
   ],
   "source": [
    "import logging\n",
    "logger = logging.getLogger(__name__)\n",
    "logger.setLevel(level = logging.INFO)\n",
    "\n",
    "handler = logging.FileHandler(\"log5.txt\")\n",
    "handler.setLevel(logging.INFO)\n",
    "formatter = logging.Formatter('%(asctime)s - %(name)s - %(levelname)s - %(message)s')\n",
    "handler.setFormatter(formatter)\n",
    "logger.addHandler(handler)\n",
    "\n",
    "console_handler = logging.StreamHandler()\n",
    "console_handler.setLevel(level=logging.INFO)\n",
    "logger.addHandler(console_handler)\n",
    "\n",
    "logger.info(\"Start print log11\")\n",
    "# logger.debug(\"Do something\")\n",
    "# logger.warning(\"Something maybe fail.\")\n",
    "# logger.info(\"Finish\")"
   ]
  },
  {
   "cell_type": "code",
   "execution_count": 66,
   "id": "d77989bb",
   "metadata": {},
   "outputs": [
    {
     "data": {
      "text/plain": [
       "<Logger __main__ (INFO)>"
      ]
     },
     "execution_count": 66,
     "metadata": {},
     "output_type": "execute_result"
    }
   ],
   "source": [
    "logger"
   ]
  },
  {
   "cell_type": "code",
   "execution_count": 69,
   "id": "969da8aa",
   "metadata": {},
   "outputs": [
    {
     "name": "stderr",
     "output_type": "stream",
     "text": [
      "Start print log\n",
      "Start print log\n",
      "Start print log\n",
      "Something maybe fail.\n",
      "Something maybe fail.\n",
      "Something maybe fail.\n",
      "Finish\n",
      "Finish\n",
      "Finish\n"
     ]
    }
   ],
   "source": [
    "import logging\n",
    "logger = logging.getLogger(__name__)\n",
    "logger.setLevel(level = logging.INFO)\n",
    "handler = logging.FileHandler(\"log56.txt\")\n",
    "handler.setLevel(logging.INFO)\n",
    "formatter = logging.Formatter('%(asctime)s - %(name)s - %(levelname)s - %(message)s')\n",
    "handler.setFormatter(formatter)\n",
    " \n",
    "console = logging.StreamHandler()\n",
    "console.setLevel(logging.INFO)\n",
    " \n",
    "logger.addHandler(handler)\n",
    "logger.addHandler(console)\n",
    " \n",
    "logger.info(\"Start print log\")\n",
    "logger.debug(\"Do something\")\n",
    "logger.warning(\"Something maybe fail.\")\n",
    "logger.info(\"Finish\")"
   ]
  },
  {
   "cell_type": "code",
   "execution_count": null,
   "id": "1161b40a",
   "metadata": {},
   "outputs": [],
   "source": [
    "input = to"
   ]
  }
 ],
 "metadata": {
  "kernelspec": {
   "display_name": "yolov5",
   "language": "python",
   "name": "yolov5"
  },
  "language_info": {
   "codemirror_mode": {
    "name": "ipython",
    "version": 3
   },
   "file_extension": ".py",
   "mimetype": "text/x-python",
   "name": "python",
   "nbconvert_exporter": "python",
   "pygments_lexer": "ipython3",
   "version": "3.9.5"
  },
  "toc": {
   "base_numbering": 1,
   "nav_menu": {},
   "number_sections": true,
   "sideBar": true,
   "skip_h1_title": false,
   "title_cell": "Table of Contents",
   "title_sidebar": "Contents",
   "toc_cell": false,
   "toc_position": {},
   "toc_section_display": true,
   "toc_window_display": false
  }
 },
 "nbformat": 4,
 "nbformat_minor": 5
}
